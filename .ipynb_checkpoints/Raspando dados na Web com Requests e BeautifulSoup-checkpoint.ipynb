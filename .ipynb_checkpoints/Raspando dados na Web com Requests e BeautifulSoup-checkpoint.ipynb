{
 "cells": [
  {
   "cell_type": "markdown",
   "metadata": {},
   "source": [
    "# John Mayer - Gravity"
   ]
  },
  {
   "cell_type": "markdown",
   "metadata": {},
   "source": [
    "John Clayton Mayer é um cantor, compositor e produtor musical norte-americano. Nascido em Bridgeport, no estado de Connecticut, ele estudou na Berklee College of Music. Autor de músicas que ganharam o Grammy Awards como Your Body Is A Wonderland. Comecou tocando rock, mas foi transitando para o blues. Já colaborou com artistas renomados do blues como B.B. King e Eric Clapton."
   ]
  },
  {
   "cell_type": "markdown",
   "metadata": {},
   "source": [
    "<img src=\"img/johnmayer.jpg\">"
   ]
  },
  {
   "cell_type": "markdown",
   "metadata": {},
   "source": []
  },
  {
   "cell_type": "code",
   "execution_count": 1,
   "metadata": {},
   "outputs": [
    {
     "data": {
      "text/plain": [
       "requests.models.Response"
      ]
     },
     "execution_count": 1,
     "metadata": {},
     "output_type": "execute_result"
    }
   ],
   "source": [
    "# Importando a biblioteca Requests\n",
    "import requests\n",
    "\n",
    "url = \"https://www.letras.mus.br/john-mayer/420168/\"\n",
    "\n",
    "r = requests.get(url)\n",
    "\n",
    "type(r)"
   ]
  },
  {
   "cell_type": "markdown",
   "metadata": {
    "collapsed": true
   },
   "source": [
    "Ao examinarmos a chamada da funcao requests.get() obtemos um objeto do tipo Response. Para mais informacoes e um pequeno Quickstart dessa biblioteca acesse"
   ]
  },
  {
   "cell_type": "code",
   "execution_count": 2,
   "metadata": {
    "collapsed": true
   },
   "outputs": [],
   "source": [
    "# Extrair o HTML do objeto Response e imprime\n",
    "html = r.text\n",
    "#print(html)"
   ]
  },
  {
   "cell_type": "markdown",
   "metadata": {},
   "source": [
    "Muito bom, agora já temos todo o conteúdo da página que contem a música **Gravity** do John Mayer. O próximo passo é realizar o parsing ou a separacao do conteúdo da música, do restante da página. Para realizar essa tarefa vamos usar uma outra biblioteca chamada _BeautifulSoup_"
   ]
  },
  {
   "cell_type": "code",
   "execution_count": 3,
   "metadata": {},
   "outputs": [
    {
     "data": {
      "text/plain": [
       "bs4.BeautifulSoup"
      ]
     },
     "execution_count": 3,
     "metadata": {},
     "output_type": "execute_result"
    }
   ],
   "source": [
    "# Importando a biblioteca BeautifulSoup de bs4\n",
    "from bs4 import BeautifulSoup\n",
    "\n",
    "soup = BeautifulSoup(html, \"html5lib\")\n",
    "type(soup)"
   ]
  },
  {
   "cell_type": "markdown",
   "metadata": {},
   "source": [
    "Agora chegou o momento de extra informacoes relevantes da página que acabamos de coletar, como o título da página\n"
   ]
  },
  {
   "cell_type": "code",
   "execution_count": 4,
   "metadata": {},
   "outputs": [
    {
     "data": {
      "text/plain": [
       "<title>Gravity - John Mayer - LETRAS.MUS.BR</title>"
      ]
     },
     "execution_count": 4,
     "metadata": {},
     "output_type": "execute_result"
    }
   ],
   "source": [
    "soup.title"
   ]
  },
  {
   "cell_type": "markdown",
   "metadata": {},
   "source": [
    "Como podemos perceber ele retorna todo o conteúdo do título, mas é possível obter apenas a string do título da página"
   ]
  },
  {
   "cell_type": "code",
   "execution_count": 5,
   "metadata": {},
   "outputs": [
    {
     "data": {
      "text/plain": [
       "'Gravity - John Mayer - LETRAS.MUS.BR'"
      ]
     },
     "execution_count": 5,
     "metadata": {},
     "output_type": "execute_result"
    }
   ],
   "source": [
    "soup.title.string"
   ]
  },
  {
   "cell_type": "markdown",
   "metadata": {},
   "source": [
    "Podemos também obter uma lista com todos os hyperlinks da página, que no HTML sao declarados com a tag < a >"
   ]
  },
  {
   "cell_type": "code",
   "execution_count": 6,
   "metadata": {},
   "outputs": [
    {
     "data": {
      "text/plain": [
       "[<a href=\"/\">Letras de músicas - Letras.mus.br</a>,\n",
       " <a href=\"#\"></a>,\n",
       " <a href=\"/\" itemprop=\"item\"><span itemprop=\"name\">Página Inicial</span></a>,\n",
       " <a href=\"/estilos/rock-roll/\" itemprop=\"item\"><span itemprop=\"name\">Rock and Roll</span></a>,\n",
       " <a href=\"/john-mayer/\" itemprop=\"item\"><span itemprop=\"name\">John Mayer</span></a>,\n",
       " <a href=\"/john-mayer/\"><img alt=\"\" height=\"44\" src=\"https://studiosol-a.akamaihd.net/uploadfile/letras/fotos/a/d/d/5/add5adc0fca0952804b77b1980c08658-tb.jpg\" width=\"44\"/>John Mayer</a>,\n",
       " <a class=\"sh-bt sh-f\" data-nofollow=\"true\" href=\"http://www.facebook.com/sharer.php?u=https%3A%2F%2Fwww.letras.mus.br%2Fjohn-mayer%2F420168%2F&amp;t=Gravity\" rel=\"nofollow\"></a>,\n",
       " <a class=\"sh-bt sh-t\" data-nofollow=\"true\" href=\"http://twitter.com/share?url=https%3A%2F%2Fwww.letras.mus.br%2Fjohn-mayer%2F420168%2F&amp;related=letras&amp;text=%E2%99%AB%20Gravity%20no @letras\" rel=\"nofollow\"></a>,\n",
       " <a class=\"sh-bt sh-g\" data-nofollow=\"true\" href=\"https://plus.google.com/share?hl=pt-BR&amp;url=https%3A%2F%2Fwww.letras.mus.br%2Fjohn-mayer%2F420168%2F\" rel=\"nofollow\"></a>,\n",
       " <a class=\"lm_lang lm_lang_pt\" data-tt=\"Tradução\" data-viaplayer=\"true\" href=\"/john-mayer/420168/traducao.html\"><i></i>Tradução</a>]"
      ]
     },
     "execution_count": 6,
     "metadata": {},
     "output_type": "execute_result"
    }
   ],
   "source": [
    "# Encontre todos os hyperlinks da nossa sopa e exibindo apenas os 10 primeiros\n",
    "soup.findAll('a')[:10]"
   ]
  },
  {
   "cell_type": "markdown",
   "metadata": {},
   "source": [
    "Muito bem, o que nós precisamos fazer agora é extrair o texto da música que é o nosso objetivo inicial, para isso o _BeautifulSoup_ contém um método chamado .get_text()"
   ]
  },
  {
   "cell_type": "code",
   "execution_count": 7,
   "metadata": {},
   "outputs": [],
   "source": [
    "# Extrair o texto da nossa sopa e imprimir\n",
    "text = soup.get_text()\n",
    "#print(text)"
   ]
  },
  {
   "cell_type": "markdown",
   "metadata": {},
   "source": [
    "Como podemos perceber esse método retorna todo conteúdo da página inclusive códigos Javascript ou CSS. Nao é exatamente o que gostariamos de obter, o texto da música está contido nessa sopa, mas nossa colher parece grande demais para come-la ;). Analisando a página que contém o texto da música temos uma boa pista. A tag < article > parece conter todo o conteúdo da letra da música. Vamos usar entao o método .findAll() passando como parâmetro a string 'article'"
   ]
  },
  {
   "cell_type": "code",
   "execution_count": 8,
   "metadata": {},
   "outputs": [
    {
     "data": {
      "text/plain": [
       "bs4.element.Tag"
      ]
     },
     "execution_count": 8,
     "metadata": {},
     "output_type": "execute_result"
    }
   ],
   "source": [
    "article_tag = soup.find('article')\n",
    "type(article_tag)"
   ]
  },
  {
   "cell_type": "code",
   "execution_count": 9,
   "metadata": {},
   "outputs": [
    {
     "name": "stdout",
     "output_type": "stream",
     "text": [
      "Gravity is working against me And gravity wants to bring me down Oh, I'll never know what makes this man With all the love that his heart can stand Dream of ways to throw it all away Oh, gravity is working against me And gravity wants to bring me down Oh, twice as much ain't twice as good And can't sustain like a one half could It's wanting more that's gonna send me to my knees Oh, gravity stay the hell away from me Oh, gravity has taken better men than me How can that be? Just keep me where the light is Just keep me where the light is Just keep me where the light is Come on, keep me where the light is Come on, keep me where the light is Come on, keep me where, keep me where the light is\n"
     ]
    }
   ],
   "source": [
    "for br_tag in article_tag.find_all('br'):\n",
    "    br_tag.extract()\n",
    "text = article_tag.get_text(separator=u' ', strip=True)\n",
    "print(text)"
   ]
  },
  {
   "cell_type": "markdown",
   "metadata": {},
   "source": [
    "### Parte 2 - Tokenizacao\n",
    "\n",
    "Por último, vamos comecar a preparar o nosso corpus para uma posterior análise de NLP. Uma das primeiras etapas nesse processo é a etapa de tokenizacao. Para realizar isso vamos importar o módulo RegexpTokenizer da biblioteca _NLTK_ **(Natural Language Toolkit)**. Para mais detalhes sobre a biblioteca acesse. Existe também um livro que você pode ler aqui - http://www.nltk.org/book/"
   ]
  },
  {
   "cell_type": "code",
   "execution_count": 10,
   "metadata": {},
   "outputs": [
    {
     "data": {
      "text/plain": [
       "['Gravity', 'is', 'working', 'against', 'me', 'And', 'gravity', 'wants']"
      ]
     },
     "execution_count": 10,
     "metadata": {},
     "output_type": "execute_result"
    }
   ],
   "source": [
    "# Importando RegexpTokenizer de nltk.tokenize\n",
    "from nltk.tokenize import RegexpTokenizer\n",
    "\n",
    "# Criando o objeto tokenizer\n",
    "tokenizer = RegexpTokenizer('\\w+')\n",
    "\n",
    "# Criando os tokens a partir do texto da música Gravity\n",
    "tokens = tokenizer.tokenize(text)\n",
    "tokens[:8]"
   ]
  },
  {
   "cell_type": "code",
   "execution_count": 11,
   "metadata": {},
   "outputs": [
    {
     "data": {
      "text/plain": [
       "['gravity', 'is', 'working', 'against', 'me', 'and', 'gravity', 'wants']"
      ]
     },
     "execution_count": 11,
     "metadata": {},
     "output_type": "execute_result"
    }
   ],
   "source": [
    "# Inicializando uma lista vazia que vai conter as palavras minúsculas\n",
    "words = []\n",
    "\n",
    "# Loop through list tokens and make lower case\n",
    "for word in tokens:\n",
    "    words.append(word.lower())\n",
    "\n",
    "# Print several items from list as sanity check\n",
    "words[:8]"
   ]
  },
  {
   "cell_type": "markdown",
   "metadata": {},
   "source": [
    "That's all folks !!"
   ]
  }
 ],
 "metadata": {
  "kernelspec": {
   "display_name": "Python 3",
   "language": "python",
   "name": "python3"
  },
  "language_info": {
   "codemirror_mode": {
    "name": "ipython",
    "version": 3
   },
   "file_extension": ".py",
   "mimetype": "text/x-python",
   "name": "python",
   "nbconvert_exporter": "python",
   "pygments_lexer": "ipython3",
   "version": "3.6.2"
  }
 },
 "nbformat": 4,
 "nbformat_minor": 2
}
