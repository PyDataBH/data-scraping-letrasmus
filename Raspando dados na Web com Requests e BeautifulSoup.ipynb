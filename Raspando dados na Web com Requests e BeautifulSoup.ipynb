{
 "cells": [
  {
   "cell_type": "markdown",
   "metadata": {},
   "source": [
    "# John Mayer - Gravity"
   ]
  },
  {
   "cell_type": "markdown",
   "metadata": {},
   "source": [
    "John Clayton Mayer é um cantor, compositor e produtor musical norte-americano. Nascido em Bridgeport, no estado de Connecticut, ele estudou na Berklee College of Music. Autor de músicas que ganharam o Grammy Awards como Your Body Is A Wonderland. Comecou tocando rock, mas foi transitando para o blues. Já colaborou com artistas renomados do blues como B.B. King e Eric Clapton."
   ]
  },
  {
   "cell_type": "markdown",
   "metadata": {},
   "source": [
    "<img src=\"img/johnmayer.jpg\">"
   ]
  },
  {
   "cell_type": "code",
   "execution_count": 1,
   "metadata": {},
   "outputs": [
    {
     "data": {
      "text/plain": [
       "requests.models.Response"
      ]
     },
     "execution_count": 1,
     "metadata": {},
     "output_type": "execute_result"
    }
   ],
   "source": [
    "# Importando a biblioteca Requests\n",
    "import requests\n",
    "\n",
    "url = \"https://www.letras.mus.br/john-mayer/420168/\"\n",
    "\n",
    "r = requests.get(url)\n",
    "\n",
    "type(r)"
   ]
  },
  {
   "cell_type": "markdown",
   "metadata": {
    "collapsed": true
   },
   "source": [
    "Ao examinarmos a chamada da funcao requests.get() obtemos um objeto do tipo Response. Para mais informacoes e um pequeno Quickstart dessa biblioteca acesse"
   ]
  },
  {
   "cell_type": "code",
   "execution_count": 2,
   "metadata": {},
   "outputs": [],
   "source": [
    "# Extrair o HTML do objeto Response e imprime\n",
    "html = r.text\n",
    "#print(html)"
   ]
  },
  {
   "cell_type": "markdown",
   "metadata": {},
   "source": [
    "Muito bom, agora já temos todo o conteúdo da página que contem a música **Gravity** do John Mayer. O próximo passo é realizar o parsing ou a separacao do conteúdo da música, do restante da página. Para realizar essa tarefa vamos usar uma outra biblioteca chamada _BeautifulSoup_"
   ]
  },
  {
   "cell_type": "code",
   "execution_count": 3,
   "metadata": {},
   "outputs": [
    {
     "data": {
      "text/plain": [
       "bs4.BeautifulSoup"
      ]
     },
     "execution_count": 3,
     "metadata": {},
     "output_type": "execute_result"
    }
   ],
   "source": [
    "# Importando a biblioteca BeautifulSoup de bs4\n",
    "from bs4 import BeautifulSoup\n",
    "\n",
    "soup = BeautifulSoup(html, \"html5lib\")\n",
    "type(soup)"
   ]
  },
  {
   "cell_type": "markdown",
   "metadata": {},
   "source": [
    "Agora chegou o momento de extra informacoes relevantes da página que acabamos de coletar, como o título da página\n"
   ]
  },
  {
   "cell_type": "code",
   "execution_count": 4,
   "metadata": {},
   "outputs": [
    {
     "data": {
      "text/plain": [
       "<title>Gravity - John Mayer - LETRAS.MUS.BR</title>"
      ]
     },
     "execution_count": 4,
     "metadata": {},
     "output_type": "execute_result"
    }
   ],
   "source": [
    "soup.title"
   ]
  },
  {
   "cell_type": "markdown",
   "metadata": {},
   "source": [
    "Como podemos perceber ele retorna todo o conteúdo do título, mas é possível obter apenas a string do título da página"
   ]
  },
  {
   "cell_type": "code",
   "execution_count": 5,
   "metadata": {},
   "outputs": [
    {
     "data": {
      "text/plain": [
       "'Gravity - John Mayer - LETRAS.MUS.BR'"
      ]
     },
     "execution_count": 5,
     "metadata": {},
     "output_type": "execute_result"
    }
   ],
   "source": [
    "soup.title.string"
   ]
  },
  {
   "cell_type": "markdown",
   "metadata": {},
   "source": [
    "Podemos também obter uma lista com todos os hyperlinks da página, que no HTML sao declarados com a tag < a >"
   ]
  },
  {
   "cell_type": "code",
   "execution_count": 6,
   "metadata": {},
   "outputs": [
    {
     "data": {
      "text/plain": [
       "[<a href=\"/\">Letras de músicas - Letras.mus.br</a>,\n",
       " <a href=\"#\"></a>,\n",
       " <a href=\"/\" itemprop=\"item\"><span itemprop=\"name\">Página Inicial</span></a>,\n",
       " <a href=\"/estilos/rock-roll/\" itemprop=\"item\"><span itemprop=\"name\">Rock and Roll</span></a>,\n",
       " <a href=\"/john-mayer/\" itemprop=\"item\"><span itemprop=\"name\">John Mayer</span></a>,\n",
       " <a href=\"/john-mayer/\"><img alt=\"\" height=\"44\" src=\"https://studiosol-a.akamaihd.net/uploadfile/letras/fotos/a/d/d/5/add5adc0fca0952804b77b1980c08658-tb.jpg\" width=\"44\"/>John Mayer</a>,\n",
       " <a class=\"sh-bt sh-f\" data-nofollow=\"true\" href=\"http://www.facebook.com/sharer.php?u=https%3A%2F%2Fwww.letras.mus.br%2Fjohn-mayer%2F420168%2F&amp;t=Gravity\" rel=\"nofollow\"></a>,\n",
       " <a class=\"sh-bt sh-t\" data-nofollow=\"true\" href=\"http://twitter.com/share?url=https%3A%2F%2Fwww.letras.mus.br%2Fjohn-mayer%2F420168%2F&amp;related=letras&amp;text=%E2%99%AB%20Gravity%20no @letras\" rel=\"nofollow\"></a>,\n",
       " <a class=\"sh-bt sh-g\" data-nofollow=\"true\" href=\"https://plus.google.com/share?hl=pt-BR&amp;url=https%3A%2F%2Fwww.letras.mus.br%2Fjohn-mayer%2F420168%2F\" rel=\"nofollow\"></a>,\n",
       " <a class=\"lm_lang lm_lang_pt\" data-tt=\"Tradução\" data-viaplayer=\"true\" href=\"/john-mayer/420168/traducao.html\"><i></i>Tradução</a>]"
      ]
     },
     "execution_count": 6,
     "metadata": {},
     "output_type": "execute_result"
    }
   ],
   "source": [
    "# Encontre todos os hyperlinks da nossa sopa e exibindo apenas os 10 primeiros\n",
    "soup.findAll('a')[:10]"
   ]
  },
  {
   "cell_type": "markdown",
   "metadata": {},
   "source": [
    "Muito bem, o que nós precisamos fazer agora é extrair o texto da música que é o nosso objetivo inicial, para isso o _BeautifulSoup_ contém um método chamado .get_text()"
   ]
  },
  {
   "cell_type": "code",
   "execution_count": 7,
   "metadata": {},
   "outputs": [
    {
     "name": "stdout",
     "output_type": "stream",
     "text": [
      "  Gravity - John Mayer - LETRAS.MUS.BR           \n",
      "\n",
      "\n",
      "\n",
      "\n",
      "\n",
      "\n",
      "\n",
      "\n",
      "\n",
      "            body,button,h1,h2,h3,hr,p,ol,ul{margin:0;padding:0}header{display:block}html{-webkit-text-size-adjust:none;-ms-text-size-adjust:none;word-wrap:break-word}body{min-width:980px;padding-top:68px;color:#444;position:relative;background:#FFF}a,button,input{outline:0}ul,ol{list-style:none}button{border:0}img{border:0;font-size:0}a{text-decoration:none;color:#b7b700}body,button,input{font:13px/1 Arial,sans-serif}h1,h2,h3{font-weight:inherit}h1,h2,h3{font-size:inherit}.g-1{width:1055px;margin:0 auto}.g-2-3{width:695px}.g-1-3{width:335px}.w-1-4{width:245px}@media (max-width:1300px){.g-1{width:960px}.g-2-3{width:631.66667px}.g-1-3{width:303.33333px}.w-1-4{width:221.25px}}.g-1-3,.g-2-3{float:left;min-height:1px}.g-2-3+.g-1-3{margin-left:25px}.g-mb{margin-bottom:25px}.g-sp{margin-bottom:50px}.g-pr{position:relative}.g-fix:after{content:'';display:block;clear:both;width:100%;height:1px}.hr{height:0;border:0;border-bottom:1px solid #eee;margin-bottom:25px}@media only screen and (min-device-width:768px) and (max-device-width:1024px){body{width:1020px}}.ad-full{background:#f5f5f5;text-align:center;position:relative;min-height:90px;z-index:auto}@media (max-width:1300px){.ad-full{left:-5px}}.main-header{height:52px;background:#c2c800;box-shadow:0 0 10px rgba(0,0,0,.3);position:fixed;top:0;left:0;right:0;z-index:50}.main-header>div{position:relative}.main-header h1{height:52px;position:absolute;top:0;left:44px}.main-header h1 a{font-size:0;display:block;width:98px;height:30px;margin:9px 12px}.main-header h1 a:before{content:'';position:absolute;left:0;right:0;top:0;bottom:0}.main-header_bt{position:absolute;top:0;left:0;width:44px;height:52px;font-size:0;background:0 0}.main-search{position:absolute;top:9px;left:50%;margin-left:-262px;width:524px;z-index:60}.main-search_input::-moz-placeholder{color:#ccc;font-weight:400;opacity:1}.main-search_input::-webkit-input-placeholder{color:#ccc;font-weight:400;opacity:1}.main-search_input:-ms-input-placeholder{color:#ccc;font-weight:400;opacity:1}.main-search_input{border:0;padding:6px 9px;height:22px;font-size:17px;font-weight:700;line-height:22px;width:506px;color:#444;background:0 0;position:absolute;z-index:1}.main-search_submit{position:absolute;top:1px;right:1px;width:40px;height:32px;font-size:0;border-radius:0 3px 3px 0;background:0 0;z-index:1}.main-search .suggest__drop{width:100%;max-height:0;min-height:0;overflow:hidden;position:relative;visibility:visible;border:0;box-shadow:none;background:#fff;padding-top:34px;border-radius:3px;opacity:1;z-index:auto}.main-header_ccid{position:absolute;top:0;right:0}.main-header_ccid span{display:inline-block;vertical-align:top}.main-header_ccid a{font-weight:700;font-size:15px;line-height:52px;padding:0 10px;color:#fff;text-decoration:none;display:inline-block}.main-header_ccid img{display:inline-block;margin-left:10px;vertical-align:middle;border-radius:50%}.suggest{position:relative}.suggest__drop{left:0;right:0;top:100%;border-top:0;z-index:10}.cnt-filter{margin-bottom:15px;position:relative}.cnt-filter_more,.cnt-filter_tabs{font-size:0}.cnt-filter_more>a,.cnt-filter_tabs>a{display:inline-block;vertical-align:top;color:#444;font-weight:700;font-size:15px;line-height:32px;height:32px;padding:0 8px;border-radius:3px;margin-right:4px}.cnt-filter_tabs>a.on{background:#444;color:#fff}.cnt-filter_more{display:inline-block;vertical-align:top;margin-right:4px;position:relative}.cnt-filter_more>a{position:relative;margin:0}.cnt-filter_more>a:after{content:'';width:0;height:0;display:inline-block;vertical-align:middle;border:5px solid;border-color:#444 transparent transparent transparent;margin-left:5px;position:relative;top:1px}   #breadcrumb{font:11px/1 Tahoma,sans-serif;color:#ccc;height:36px;text-transform:lowercase;overflow:hidden;position:relative;margin-top:-14px}#breadcrumb a{text-decoration:none;padding:10px 22px 10px 0;text-transform:lowercase;display:inline-block;position:relative;color:#ccc}#breadcrumb a:after{content:'';position:absolute;width:0;height:0;top:13px;right:6px;border:solid 3px;border-color:#fff #fff #fff #ccc}#breadcrumb>span:last-of-type a:after{display:none}.cnt-head img{border-radius:50%}.cnt-head--l{font-weight:700;margin-bottom:25px;position:relative}.cnt-head--l .cnt-head_title{width:50%}.cnt-head--l img{position:absolute;top:0;left:0}.cnt-head--l h1,.cnt-head--l h2 a{padding-left:54px;letter-spacing:-1px}.cnt-head--l h1{font-size:25px;color:#f60;position:relative;top:-3px}.cnt-head--l h2 a{font-size:19px;color:#b7b700;text-decoration:none}.cnt-info{position:absolute;top:10px;right:0;text-align:right}.sh{font-size:0;height:28px;position:relative;margin-bottom:20px}.sh-bt{width:28px;height:28px;display:inline-block;border-radius:2px;margin-left:3px;opacity:.5;position:relative}.sh-bt:before{content:'';position:absolute}.sh-f{background:#325c99}.sh-t{background:#00b1eb}.sh-g{background:#dd4b39}.cnt-info_exib{display:inline-block;vertical-align:baseline}.cnt-info_exib{color:#999;font:11px/1 Tahoma,sans-serif;position:absolute;top:0;right:100px}.cnt-info_exib b{font:700 15px/1 sans-serif;display:block;color:#444;margin-top:2px}.player{position:absolute;font:11px/1 Tahoma,sans-serif;z-index:20}.pl--normal{top:278px;right:50%;margin-right:-527px;width:500px}@media (max-width:1300px){.pl--normal{margin-right:-480px;width:420px}}.pl_media{position:relative;background:#000;width:100%;overflow:hidden}.plm_thumb{display:block;background:#000;width:100%}.plm_thumb{height:auto;display:block}.plm_play{position:absolute;top:0;left:0;right:0;bottom:0;font-size:0}.plm_play b{background-color:rgba(0,0,0,.75);border:solid rgba(0,0,0,.75) 20px;border-width:15px 29px 15px 35px;border-radius:4px;position:absolute;top:50%;left:50%;width:20px;height:20px;font-size:0;margin:-24px 0 0 -41px;background-clip:padding-box;box-shadow:0 1px 3px rgba(0,0,0,.4)}.pl--normal .pl_media{height:282px}.pl--normal .plm_thumb{margin-top:-46px}.pl_subtitle,.pl_videos,.pl_end{display:none}.pl_progress{height:2px;position:absolute;margin-top:-2px;opacity:0}.pl_controls{height:0;overflow:hidden}.pl_size{position:absolute;opacity:0;visibility:hidden}.pl_playlist{position:absolute;overflow:hidden;visibility:hidden}.pl_info_wrap{display:none}.pl_info{visibility:hidden;opacity:0;position:absolute}.pl_bt_lyrics,.pl_bt_sub,.pl_bt_close{visibility:hidden;position:absolute;top:8px}.pl--normal .pl_playlist{border:1px solid #ddd;border-top:0;border-radius:0 0 2px 2px;height:243px;top:0;z-index:-1;width:498px}.pl--normal .pl_info_wrap{width:498px;left:1px}.pl_tools{position:absolute;right:0;bottom:30px;width:200px;height:10px;visibility:hidden;overflow:hidden;z-index:1}.cnt-letra{padding-right:510px}.cnt-letra,.cnt-trad{padding-left:54px;color:#444;font-size:19px;line-height:1.6;min-height:290px}.cnt-letra p{margin-bottom:1.6em}.cnt-letra p:last-child{margin-bottom:0}.cnt-trad h3{font-weight:700;font-size:19px;line-height:1.6;margin-bottom:1.6em}.cnt-trad_l{width:461px;float:left}.cnt-trad_l{text-align:right;margin-right:25px;color:#999}@media (max-width:1300px){.cnt-trad_l{width:411px}}   \n",
      "\n",
      "           {\"@context\":\"http://schema.org/\",\"@id\":\"https://www.letras.mus.br/john-mayer/420168/\",\"@type\":\"MusicRecording\",\"byArtist\":{\"@context\":\"http://schema.org/\",\"@id\":\"https://www.letras.mus.br/john-mayer/\",\"@type\":\"MusicGroup\",\"description\":\"Músicas de  John Mayer , artista do estilo Rock and Roll\",\"genre\":\"Rock and Roll\",\"image\":\"https://studiosol-a.akamaihd.net/uploadfile/letras/fotos/a/d/d/5/add5adc0fca0952804b77b1980c08658.jpg\",\"name\":\"John Mayer\",\"potentialAction\":{\"@type\":\"ListenAction\",\"expectsAcceptanceOf\":{\"@type\":\"Offer\",\"eligibleRegion\":[{\"@type\":\"Country\",\"name\":\"BR\"},{\"@type\":\"Country\",\"name\":\"US\"},{\"@type\":\"Country\",\"name\":\"AR\"},{\"@type\":\"Country\",\"name\":\"CL\"},{\"@type\":\"Country\",\"name\":\"VE\"},{\"@type\":\"Country\",\"name\":\"EC\"},{\"@type\":\"Country\",\"name\":\"MX\"},{\"@type\":\"Country\",\"name\":\"ES\"},{\"@type\":\"Country\",\"name\":\"UY\"}]},\"target\":[{\"@type\":\"EntryPoint\",\"actionPlatform\":[\"http://schema.org/DesktopWebPlatform\",\"http://schema.org/MobileWebPlatform\"],\"inLanguage\":[\"pt\",\"es\",\"en\"],\"urlTemplate\":\"https://www.letras.mus.br/john-mayer/ouvir.html\"},{\"@type\":\"EntryPoint\",\"actionPlatform\":\"http://schema.org/AndroidPlatform\",\"inLanguage\":[\"pt\",\"es\",\"en\",\"fr\"],\"urlTemplate\":\"android-app://com.studiosol.player.letras/http/www.letras.mus.br/john-mayer/\"}]},\"sameAs\":[\"https://www.cifraclub.com.br/john-mayer/\",\"http://www.johnmayer.com\"],\"url\":\"https://www.letras.mus.br/john-mayer/\"},\"description\":\"Gravity é uma música de John Mayer, artista do estilo Rock and Roll\",\"duration\":\"PT4M7S\",\"genre\":\"Rock and Roll\",\"image\":\"https://studiosol-a.akamaihd.net/uploadfile/letras/fotos/a/d/d/5/add5adc0fca0952804b77b1980c08658.jpg\",\"inAlbum\":{\"@context\":\"http://schema.org/\",\"@id\":\"https://www.letras.mus.br/john-mayer/discografia/try-2005/\",\"@type\":\"MusicAlbum\",\"byArtist\":{\"@id\":\"https://www.letras.mus.br/john-mayer/\",\"@type\":\"MusicGroup\",\"name\":\"John Mayer\"},\"datePublished\":2005,\"description\":\"Try! Trio With Steve Jordan And Piano Palladino (Live) é um album de John Mayer, artista do estilo Rock and Roll\",\"genre\":\"Rock and Roll\",\"image\":\"https://studiosol-a.akamaihd.net/letras/250x250/albuns/7/4/8/8/8987.jpg\",\"name\":\"Try! Trio With Steve Jordan And Piano Palladino (Live)\",\"numtracks\":11,\"publisher\":\"Sony Music\",\"url\":\"https://www.letras.mus.br/john-mayer/discografia/try-2005/\"},\"name\":\"Gravity\",\"sameAs\":[\"https://www.cifraclub.com.br/john-mayer/gravity/\"],\"url\":\"https://www.letras.mus.br/john-mayer/420168/\"}               \n",
      "\n",
      "\n",
      "\n",
      "\n",
      "\n",
      "\n",
      "\n",
      "(function (i) {\n",
      "    var ts = document.createElement('script');\n",
      "    ts.type = 'text/javascript';\n",
      "    ts.async = true;\n",
      "    ts.src = ('https:' == document.location.protocol ? 'https://' : 'http://') + 'tags.t.tailtarget.com/t3m.js?i=' + i;\n",
      "    var s = document.getElementsByTagName('script')[0];\n",
      "    s.parentNode.insertBefore(ts, s);\n",
      "})('TT-11079-5/CT-450');\n",
      "\n",
      " \n",
      "\n",
      "\n",
      "\n",
      "\n",
      "\n",
      "\n",
      "    var ts = document.createElement('script');\n",
      "    ts.type = 'text/javascript';\n",
      "    ts.async = true;\n",
      "    ts.src = ('https:' == document.location.protocol ? 'https://' : 'http://') + 'd.tailtarget.com/profiles.js';\n",
      "    var s = document.getElementsByTagName('script')[0];\n",
      "    s.parentNode.insertBefore(ts, s);\n",
      "\n",
      "\n",
      "    \n",
      "    window.__pageArgs={\"dns\":\"john-mayer\",\"genre\":\"rock-roll\",\"isTop1000Artist\":true,\"lyric_lang\":\"en\",\"page\":\"lyric\",\"url\":\"420168\"};\n",
      "    \n",
      "    \n",
      "        window.ssx=\"412800759e0d069\";\n",
      "    \n",
      "    window.disabledAdsense=false;\n",
      "    window.__pageArgs = window.__pageArgs || {};\n",
      "    window.__Lang = \"pt\";window.__Locale = \"pt_BR\";window.__LangByLocale = \"pt\";\n",
      "    window.__Hash = window.location.hash.replace(\"#\",\"\");\n",
      "    window.__IsMobile = false;\n",
      "    //tailtarget\n",
      "    var _ttprofiles = _ttprofiles || [];\n",
      "    var _ttconversion = _ttconversion || [];\n",
      "    _ttprofiles.profiles = [];\n",
      "    _ttprofiles.push(['_setAccount', 'TT-11079-5']);\n",
      "    _ttprofiles.push(['_sync', false]);\n",
      "    _ttprofiles.push(['_enableServices']);\n",
      "    _ttconversion.push(['_event','_channel', 'letras-geral']);\n",
      "    if(window.__pageArgs){\n",
      "        if(window.__pageArgs.genre) {\n",
      "            _ttconversion.push(['_event','_channel', window.__pageArgs.genre+'-letras']);\n",
      "        }\n",
      "        if (window.__pageArgs.dns && window.__pageArgs.dns == \"simone-simaria-as-coleguinhas\") {\n",
      "            _ttconversion.push(['_event','_channel','simone-e-simaria-letras']);\n",
      "        }\n",
      "        if (window.__pageArgs.dns && window.__pageArgs.dns == \"ivete-sangalo\" || window.__pageArgs.dns == \"luan-santana\") {\n",
      "            _ttconversion.push(['_event','_channel',window.__pageArgs.dns+'-letras']);\n",
      "        }\n",
      "\n",
      "    }\n",
      "    var _plq = _plq || [];\n",
      "    var _omq = _omq || [];\n",
      "    var upManager = window.upManager || [];\n",
      "    var _czmb = _czmb || [];\n",
      "    var googletag = googletag || {};\n",
      "    googletag.cmd = googletag.cmd || [];\n",
      "    var pbjs = pbjs || {};\n",
      "    pbjs.que = pbjs.que || [];\n",
      "    pbjs.bidderTimeout = 2000;\n",
      "    var _adunitSlots = {};\n",
      "    var _adunitLazySlots = {};\n",
      "    googletag.cmd.push(function() {\n",
      "        googletag.destroySlots();\n",
      "        googletag.pubads().enableSingleRequest();\n",
      "        googletag.pubads().disableInitialLoad();\n",
      "        googletag.enableServices();\n",
      "        function adUnitDFPSlot(name) {return [\"\", \"8348802\"].concat([name]).join('/');}\n",
      "        window._adunitSlots[\"pub_10_ad\"] = googletag.defineSlot(adUnitDFPSlot(\"Letras:728x90:firstView\"),[[728,90],[970,90],[1055,90]],\"pub_10_ad\").addService(googletag.pubads());window._adunitSlots[\"pub_3_ad\"] = googletag.defineSlot(adUnitDFPSlot(\"Letras:336x250_belowVideo\"),[[300,250],[336,280],[600,250]],\"pub_3_ad\").addService(googletag.pubads());window._adunitSlots[\"pub_5_ad\"] = googletag.defineSlot(adUnitDFPSlot(\"Letras:728x90:belowLyrics\"),[[728,90],[970,90],[1055,90],[1055,250]],\"pub_5_ad\").addService(googletag.pubads());window._adunitSlots[\"pub_11_ad\"] = googletag.defineSlot(adUnitDFPSlot(\"Letras:300x250:comentarios\"),[[300,250],[300,600]],\"pub_11_ad\").addService(googletag.pubads());window._adunitSlots[\"pub_6_ad\"] = googletag.defineOutOfPageSlot(adUnitDFPSlot(\"Letras:floatingAds\"),\"pub_6_ad\").addService(googletag.pubads());window._adunitSlots[\"pub_7_ad\"] = googletag.defineOutOfPageSlot(adUnitDFPSlot(\"Letras:PlayerPreroll\"),\"pub_7_ad\").addService(googletag.pubads());window._adunitSlots[\"pub_8_ad\"] = googletag.defineOutOfPageSlot(adUnitDFPSlot(\"Letras:bg:internas\"),\"pub_8_ad\").addService(googletag.pubads());window._adunitSlots[\"pub_9_ad\"] = googletag.defineSlot(adUnitDFPSlot(\"Letras:1055x90:billboardInternas\"),[[728,90],[970,90],[970,250],[1055,90],[1055,250]],\"pub_9_ad\").addService(googletag.pubads());\n",
      "    });\n",
      "    var prebidAdUnits = [{\"code\":\"pub_10_ad\",\"sizes\":[[728,90],[970,90],[1055,90]],\"bids\":[{\"id\":\"criteo-757557\",\"bidder\":\"criteo\",\"params\":{\"zoneId\":\"757557\"}},{\"id\":\"rubicon-14458-101116-483894\",\"bidder\":\"rubicon\",\"params\":{\"accountId\":\"14458\",\"siteId\":\"101116\",\"sizes\":[2,55],\"zoneId\":\"483894\"}},{\"id\":\"aol-10817.1-4345169\",\"bidder\":\"aol\",\"params\":{\"network\":\"10817.1\",\"placement\":\"4345169\"}},{\"id\":\"appnexus-11446668\",\"bidder\":\"appnexus\",\"params\":{\"placementId\":\"11446668\"}}]},{\"code\":\"pub_3_ad\",\"sizes\":[[300,250],[336,280],[600,250]],\"bids\":[{\"id\":\"criteo-757551\",\"bidder\":\"criteo\",\"params\":{\"zoneId\":\"757551\"}},{\"id\":\"rubicon-14458-101116-484038\",\"bidder\":\"rubicon\",\"params\":{\"accountId\":\"14458\",\"siteId\":\"101116\",\"sizes\":[15],\"zoneId\":\"484038\"}},{\"id\":\"aol-10817.1-4345167\",\"bidder\":\"aol\",\"params\":{\"network\":\"10817.1\",\"placement\":\"4345167\"}},{\"id\":\"appnexus-11446664\",\"bidder\":\"appnexus\",\"params\":{\"placementId\":\"11446664\"}}]},{\"code\":\"pub_5_ad\",\"sizes\":[[728,90],[970,90],[1055,90],[1055,250]],\"bids\":[{\"id\":\"criteo-757553\",\"bidder\":\"criteo\",\"params\":{\"zoneId\":\"757553\"}},{\"id\":\"rubicon-14458-101116-560180\",\"bidder\":\"rubicon\",\"params\":{\"accountId\":\"14458\",\"siteId\":\"101116\",\"sizes\":[2],\"zoneId\":\"560180\"}},{\"id\":\"aol-10817.1-4545979\",\"bidder\":\"aol\",\"params\":{\"network\":\"10817.1\",\"placement\":\"4545979\"}},{\"id\":\"appnexus-11446666\",\"bidder\":\"appnexus\",\"params\":{\"placementId\":\"11446666\"}}]},{\"code\":\"pub_11_ad\",\"sizes\":[[300,250],[300,600]],\"bids\":[{\"id\":\"criteo-757558\",\"bidder\":\"criteo\",\"params\":{\"zoneId\":\"757558\"}},{\"id\":\"rubicon-14458-101116-637926\",\"bidder\":\"rubicon\",\"params\":{\"accountId\":\"14458\",\"siteId\":\"101116\",\"zoneId\":\"637926\"}},{\"id\":\"aol-10817.1-4545977\",\"bidder\":\"aol\",\"params\":{\"network\":\"10817.1\",\"placement\":\"4545977\"}},{\"id\":\"appnexus-11446669\",\"bidder\":\"appnexus\",\"params\":{\"placementId\":\"11446669\"}}]},{\"code\":\"pub_9_ad\",\"sizes\":[[728,90],[970,90],[970,250],[1055,90],[1055,250]],\"bids\":[{\"id\":\"criteo-757556\",\"bidder\":\"criteo\",\"params\":{\"zoneId\":\"757556\"}},{\"id\":\"rubicon-14458-101116-628796\",\"bidder\":\"rubicon\",\"params\":{\"accountId\":\"14458\",\"siteId\":\"101116\",\"sizes\":[2,55,57],\"zoneId\":\"628796\"}},{\"id\":\"aol-10817.1-4345168\",\"bidder\":\"aol\",\"params\":{\"network\":\"10817.1\",\"placement\":\"4345168\"}},{\"id\":\"aol-10817.1-4366985\",\"bidder\":\"aol\",\"params\":{\"network\":\"10817.1\",\"placement\":\"4366985\"}},{\"id\":\"appnexus-11446667\",\"bidder\":\"appnexus\",\"params\":{\"placementId\":\"11446667\"}}]}];\n",
      "\tvar __activeBids = [\"rubicon\",\"aol\",\"appnexus\",\"criteo\"];\n",
      "    var _hscmd = _hscmd || [];\n",
      "    _hscmd.push(function() {\n",
      "\t\tdfpEvents(window.__IsMobile);\n",
      "        initADPipeline();\n",
      "\t});\n",
      "\n",
      " \n",
      "\n",
      "\n",
      "\n",
      "        Letras de músicas - Letras.mus.br menu   buscar              Página Inicial       Rock and Roll       John Mayer       Gravity          \n",
      "\tvar d=document.createElement(\"div\");d.id=\"pub_10_ad\";document.getElementById(\"pub_10\").appendChild(d);\n",
      "\tgoogletag.cmd.push(function () {googletag.display(\"pub_10_ad\");});\n",
      "\t   Gravity John Mayer              exibições  657.894            Gravity is working against meAnd gravity wants to bring me downOh, I'll never know what makes this manWith all the love that his heart can standDream of ways to throw it all awayOh, gravity is working against meAnd gravity wants to bring me downOh, twice as much ain't twice as goodAnd can't sustain like a one half couldIt's wanting more that's gonna send me to my kneesOh, gravity stay the hell away from meOh, gravity has taken better men than meHow can that be?Just keep me where the light isJust keep me where the light isJust keep me where the light isCome on, keep me where the light isCome on, keep me where the light isCome on, keep me where, keep me where the light is          Tradução    Add a playlist Tamanho  A Restaurar A   Cifra  Imprimir   Corrigir         Criar    \n",
      "\tvar d=document.createElement(\"div\");d.id=\"pub_3_ad\";document.getElementById(\"pub_3\").appendChild(d);\n",
      "\tgoogletag.cmd.push(function () {googletag.display(\"pub_3_ad\");});\n",
      "\t   \n",
      "\tvar d=document.createElement(\"div\");d.id=\"pub_5_ad\";document.getElementById(\"pub_5\").appendChild(d);\n",
      "\tgoogletag.cmd.push(function () {googletag.display(\"pub_5_ad\");});\n",
      "\t  Composição:  John Mayer · Esse não é o compositor? Nos avise.     Enviada por Sheyne, Traduzida por victor, Legendado por Mayara, Bruna e mais 2    Viu algum erro na letra? Envie sua correção.    Recomendar Twitter Google+        \n",
      "\tvar d=document.createElement(\"div\");d.id=\"pub_11_ad\";document.getElementById(\"pub_11\").appendChild(d);\n",
      "\tgoogletag.cmd.push(function () {googletag.display(\"pub_11_ad\");});\n",
      "\t    \n",
      "\tvar d=document.createElement(\"div\");d.id=\"pub_6_ad\";document.getElementById(\"pub_6\").appendChild(d);\n",
      "\tgoogletag.cmd.push(function () {googletag.display(\"pub_6_ad\");});\n",
      "\t \n",
      "\tvar d=document.createElement(\"div\");d.id=\"pub_7_ad\";document.getElementById(\"pub_7\").appendChild(d);\n",
      "\tgoogletag.cmd.push(function () {googletag.display(\"pub_7_ad\");});\n",
      "\t \n",
      "\tvar d=document.createElement(\"div\");d.id=\"pub_8_ad\";document.getElementById(\"pub_8\").appendChild(d);\n",
      "\tgoogletag.cmd.push(function () {googletag.display(\"pub_8_ad\");});\n",
      "\t         Mais ouvidas de John Mayer Ver todas as músicas de John Mayer →      Free Fallin'    Gravity    XO    Slow Dancing In a Burning Room    Daughters    Your Body Is a Wonderland    Love On the Weekend    Stop This Train    Emoji of a Wave    Who You Love (feat. Katy Perry)    Still Feel Like Your Man    In the Blood    Heartbreak Warfare    Helpless    You're Gonna Live Forever In Me    Moving On and Getting Over    Rosie    Say    Neon    Who Says        <hr class=\"hr\" /> <div class=\"g-1 g-pr g-mb\"> <h2 class=\"h3\">Rádios que tocam John Mayer</h2> <a href=\"/radios/\" class=\"cnt-more\">Ver mais rádios →</a> <div id=\"js-radios-wrap\" class=\"radios-wrap g-fix\"></div> </div> <hr class=\"hr\" />    Playlists relacionadas                             Ver mais playlists →  \n",
      "\n",
      "     Mais acessados        Todos  Rock  Gospel  Sertanejo  Funk    Mais        Alternativo  Axé  Blues  Bolero  Bossa Nova  Brega  Clássico  Country  Cuarteto  Cumbia  Dance  Disco  Eletrônica  Emocore  Fado  Folk  Forró  Funk  Funk Internacional  Gospel/Religioso  Gótico  Grunge  Guarânia  Hard Rock  Hardcore  Heavy Metal  Hip Hop/Rap  House  Indie  Industrial  Infantil  Instrumental  J-Pop/J-Rock  Jazz  Jovem Guarda  K-Pop/K-Rock  Mambo  Marchas/Hinos  Mariachi  Merengue  MPB  Música andina  New Age  New Wave  Pagode  Pop  Pop Rock  Post-Rock  Power-Pop  Rock Progressivo  Psicodelia  Punk Rock  Ranchera  R&B  Reggae  Reggaeton  Regional  Rock  Rock and Roll  Rockabilly  Romântico  Salsa  Samba  Samba Enredo  Sertanejo  Ska  Soft Rock  Soul  Surf Music  Tango  Tecnopop  Trova  Velha Guarda  World Music  Zamba  Zouk                Ver mais músicas e artistas →      Deixe-me Ir 1Kilo    Corpo Sensual (part. Mateus Carrilho) Pabllo Vittar    Fica Tranquilo Kemilly Santos    New Rules Dua Lipa    Nessas Horas Matheus e Kauan    K.O. Pabllo Vittar    Jocelyn Flores (feat. Shiloh Dynasty) XXXTentacion    Rap Lord (part. Jonas Bento) Haikaiss    Trem Bala Ana Vilela    Felices Los 4 Maluma          1Kilo     Henrique e Juliano     Matheus e Kauan        \n",
      "\tvar d=document.createElement(\"div\");d.id=\"pub_9_ad\";document.getElementById(\"pub_9\").appendChild(d);\n",
      "\tgoogletag.cmd.push(function () {googletag.display(\"pub_9_ad\");});\n",
      "\t           _omq.push(['ui/player',{\"ID\":420168,\"URL\":\"420168\",\"Name\":\"Gravity\",\"DNS\":\"john-mayer\",\"Artist\":\"John Mayer\",\"Language\":\"en\",\"YoutubeID\":\"\",\"StartSeconds\":0,\"Duration\":\"PT4M7S\",\"CifraURL\":\"gravity\",\"Adult\":false,\"CopyrightStrike\":false,\"AlbumID\":8987,\"OGImage\":\"\",\"WeekHits\":{\"en\":0,\"es\":733,\"pt\":1993},\"TotalHits\":{\"en\":0,\"es\":21939,\"pt\":657894},\"Translations\":{\"pt\":{\"ID\":49713,\"Type\":0}}}]);_omq.push(['ui/lyric',{DNS:'john-mayer',URL:'420168',ID:420168,Artist:'John Mayer',Name:'Gravity',Thumb:'https://studiosol-a.akamaihd.net/letras/25x25/fotos/a/d/d/5/add5adc0fca0952804b77b1980c08658-tb.jpg'}]);\n",
      "\n",
      "\n",
      "var Survey = function(articleUrl, contentId) {\n",
      "var ARTICLE_URL = articleUrl;\n",
      "var CONTENT_ID = contentId || '';\n",
      "var el = document.createElement('script');\n",
      "var url = 'https://survey.g.doubleclick.net/survey?site=_tx637blu2og76x5gft3ahmmj3a' +\n",
      "'&url=' + encodeURIComponent(ARTICLE_URL) +\n",
      "(CONTENT_ID ? '&cid=' + encodeURIComponent(CONTENT_ID) : '') +\n",
      "'&random=' + (new Date).getTime() +\n",
      "'&after=1';\n",
      "el.setAttribute('src', url);\n",
      "var head = document.getElementsByTagName('head')[0] ||\n",
      "document.getElementsByTagName('body')[0];\n",
      "head.appendChild(el);\n",
      "};\n",
      "Survey(window.location.href, 'everything');\n",
      "       Todos os artistas  ABCDEFGHIJKLMNOPQRSTUVWXYZ0/9      Músicas  Top músicas Atualizações Lançamentos Playlists do Letras Crie suas playlists Rádios    Artistas  Top Artistas Top Álbuns    Participe  Crie seu perfil musical Envie álbuns Envie letras Correções de letras    Sobre o site  Ajuda Anuncie no Letras Termos de uso e Política de privacidade Regras de uso      Aplicativos e plugins Disponível no Google Play Baixar na App Store Baixar na Microsoft  Plugin Chrome Windows Media Player Windows Winamp Mac iTunes     Siga o Letras Facebook Instagram Twiter   Idiomas  Ver en español   See in english        Studio Sol  Feito com amor em Belo Horizonte © 2003 - 2017, 2.5 milhões de músicas, 79.1 milhões de visitas em Setembro  Muito mais que letras de músicas   Mais música em: Cifra Club Palco MP3   Parceiro R7.com           <div class=\"pl_media\"> <img class=\"plm_thumb\" style=\"display:none\" width=\"480\" height=\"360\" /> <div class=\"plm_embed\" id=\"<%= player_cnt %>\"></div> <span class=\"plm_play\" style=\"display:none\"><b></b>play</span> <span class=\"plm_pause\"></span> </div> <div id=\"pl_subtitle\" class=\"pl_subtitle\" title=\" Clique para trocar o idioma da legenda \"> <b></b><span class=\"pls_text\"></span> <button class=\"pls_bt\" title=\"legenda\"><b></b>legenda</button> </div> <div class=\"pl_progress\"> <div style=\"width:0\" class=\"plp_load\"></div> <div class=\"plp_seek\"> <a class=\"ui-slider-handle\" style=\"left:0\"></a> </div> </div> <div class=\"pl_tooltip js-tp-pbar\"></div> <div class=\"pl_controls\"> <button class=\"plc_prev\" title=\"anterior\"><b></b>anterior</button> <button class=\"plc_play\" title=\"play\"><b></b>play</button> <button class=\"plc_pause\" title=\"pause\"><b></b>pausar</button> <button class=\"plc_next\" title=\"próxima\"><b></b>próxima</button> <button class=\"plc_repeat\" title=\"repetir\"><b></b>repetir</button> <div class=\"pl_vol\"> <button class=\"plv_bt plv--high\" title=\" volume \"><b></b>volume</button> <div class=\"plv_control\"> <div class=\"plv_bar\"> <div style=\"width:0\" class=\"plv_level\"></div> </div> <div class=\"plv_track\"></div> </div> <div class=\"plv_control_v\"> <div class=\"plv_bar_v\"> <div style=\"height:0\" class=\"plv_level_v\"></div> </div> <div class=\"plv_track_v\"></div> </div> </div> <div class=\"plc_time\" style=\"display:none\"> <b></b> / <span></span> </div> <div class=\"plc_right\"> <button class=\"plc_shuffle\" title=\" aleatório \"><b></b>aleatório</button> <button class=\"plc_config\" title=\" opções \"><b></b><span>opções</span></button> <button class=\"plc_list\" title=\" playlist \"><b></b>playlist</button> </div> </div> <div class=\"pl_size\"> <button class=\"plz_less\" title=\" diminuir \"><b></b>diminuir</button> <button class=\"plz_more\" title=\" aumentar \"><b></b>aumentar</button> <button class=\"plz_full\" title=\" tela cheia \"><b></b>tela cheia</button> </div> <div class=\"pl_playlist\"> <div class=\"pl_playlist_select\"></div> <div id=\"js-playlistlist-view\" class=\"pl_playlist_radios ps\"> <ol class=\"pl_list\"></ol> </div> <div id=\"js-songlist-view\" class=\"pl_playlist_musics ps\"> <ol class=\"pl_list pl_list--num\"></ol> </div> </div> <div class=\"pl_info_wrap\"> <div class=\"pl_info\"> <ul></ul> </div> </div> <div class=\"pl_tools\"> <div class=\"plt_config\"> <div class=\"plt_video\"> </div> <div class=\"sep\"></div> <div class=\"plt_size\"> <span>tamanho</span> <button class=\"plt_bt plt_size_min\" title=\" pequeno \"><b></b>pequeno</button> <button class=\"plt_bt plt_size_normal on\" title=\" normal \"><b></b>normal</button> <button class=\"plt_bt plt_size_max\" title=\" grande \"><b></b>grande</button> <button class=\"plt_bt plt_size_full\" title=\" tela inteira \"><b></b>tela inteira</button> </div> <div class=\"plt_shuffle\"> <span>aleatório</span> <button class=\"plt_bt plt_shu_bt\" title=\"aleatório\"><b>aleatório</b></button> </div> <div class=\"plt_repeat\"> <span>repetir</span> <button class=\"plt_bt plt_rep_bt\" title=\"repetir\"><b>repetir</b></button> </div> <div class=\"sep\"></div> <div class=\"plt_sub_config\"> <span>legenda</span> <button class=\"plt_bt_t plt_sub_config_bt\">opções</button> </div> <div class=\"plt_quality\"></div> </div> <div class=\"plt_sub\"> <div class=\"plt_sub_top\"> <span>legenda</span> <button class=\"plt_sub_back\" title=\"voltar\"><b></b>voltar</button> <button class=\"plt_sub_edit\">editar</button> </div> <div class=\"sep\"></div> <div class=\"plt_sub_exb\"> <label><input type=\"checkbox\" id=\"js-show-sub\" class=\"chk\" /><span>exibir</span></label> <label><input type=\"checkbox\" id=\"js-over-sub\" class=\"chk\" /><span>em cima do vídeo</span></label> </div> <div class=\"sep\"></div> <div class=\"plt_sub_lan\"> <span>idioma padrão</span> <button data-lang=\"t\" class=\"plt_bt_t plt_sub_tra on\"><b></b>tradução</button> <button data-lang=\"o\" class=\"plt_bt_t plt_sub_ori\"><b></b>original</button> </div> </div> </div> <div class=\"pl_videos\"> <div class=\"pl_videos_search\"> <form id=\"js-video-search-submit\"> <input type=\"text\" class=\"pl_videos_inp\" value=\"\" autofocus /> <button type=\"submit\" class=\"pl_videos_sub\"><b></b>Buscar</button> </form> <button class=\"pl_videos_ext\">Sair</button> </div> <div class=\"pl_videos_list ps\"> <ul></ul> </div> </div> <div class=\"pl_end\"> <button class=\"pl_end_repeat\">Assistir novamente</button> <strong class=\"pl_end_notfound hidden\">Não encontramos vídeo para essa música =(</strong> <div class=\"pl_end_next\"> <span>Próxima música em 10</span> <button class=\"pl_end_stop\">Parar</button> <div class=\"pl_end_thumb\"> <img width=\"220\" height=\"165\"> <div class=\"pl_end_song\"></div> </div> </div> </div> <div class=\"pl_tooltip pl_tt--sr js-tp-config\"></div> <div class=\"pl-back\"></div> <button class=\"pl_bt_lyrics\">ver letra</button> <button class=\"pl_bt_close\" title=\" fechar \"><b></b>fechar</button> <button class=\"pl_bt_sub\">enviar legenda</button>   <span>outros vídeos desta música</span> <div class=\"plt_video_cnt\"> <% _.each(videos, function(video) { %> <a href=\"#\" data-id=\"<%= video.id %>\"> <img src=\"<%= video.sqThumbnail %>\" alt=\"<%= video.title %>\"/> </a> <% }); %> </div> <button class=\"plt_video_more\" title=\" outros vídeos desta música \">ver +</button>   <% _.each(videos, function(video) { %> <li> <a href=\"#\" data-id=\"<%= video.id %>\"> <b><img data-src=\"<%= video.sqThumbnail %>\"></b> <span><%= video.title %></span> </a> </li> <% }); %>   <span>Próxima música em <%= countdown %></span> <button>Parar</button> <b><%= text %></b>   <i> legendado </i>   <ol class=\"pl_list ps\"> <% _.each(Playlist.SongList, function(song) { %> <li data-id=\"<%= song.ID %>\" data-url=\"<%= song.URL %>\" data-playlist-song-id=\"<%= song.PlaylistSongID %>\"> <a href=\"/<%= song.DNS %>/<%= song.URL %>/\"> <b><%= song.Artist %></b> <%= song.Name %> <i title=\" opções \"></i> </a> </li> <% }); %> </ol>   <li data-playlist-id=\"<%= playlist_id %>\" data-api-endpoint=\"<%= api_endpoint %>\" data-hash=\"<%= hash %>\" href=\"#<%= hash %>\"> <a href=\"#<%= hash %>\"> <%= name %> </a> </li>   <div class=\"pl_media\"> <div class=\"plr_card\"> <div class=\"plrc_music\"> <img class=\"\" src=\"/static/img/placeholder_logo_quadrado.png\" alt=\"\" width=\"200\" height=\"200\" /> <div> <i>agora</i> <b>Rádios</b> <span>Letras.mus.br</span> </div> </div> <div class=\"plrc_select\"> <img class=\"\" src=\"/static/img/placeholder_logo_redondo.png\" alt=\"\" width=\"44\" height=\"44\" /> <b>Rádios</b> <span>Letras.mus.br</span> </div> <i class=\"plrc_fav js-fav-radio\" data-login-pos=\"top right\" data-id=\"<%= id %>\"></i> <div id=\"js-jplayer\"></div> </div> </div> <div class=\"plr_hist ps\"> <b class=\"plr_hist_t\">Músicas Recentes</b> <div class=\"plr_hist_l\"> <ul></ul> </div> </div> <div class=\"pl_controls\"> <button title=\"play\" class=\"plc_play\"><b></b>play</button> <button title=\"pause\" class=\"plc_pause\"><b></b>pausar</button> <div class=\"pl_vol\"> <button title=\"volume\" class=\"plv_bt plv--high\"><b></b>volume</button> <div class=\"plv_control\"> <div class=\"plv_bar\"> <div class=\"plv_level\" style=\"width:80%\"></div> </div> <div class=\"plv_track\"> <a href=\"#\" class=\"ui-slider-handle plv_control_handle\" style=\"left:80%\"></a> </div> </div> <div class=\"plv_control_v\"> <div class=\"plv_bar_v\"> <div class=\"plv_level_v\" style=\"height:80%\"></div> </div> <div class=\"plv_track_v\"> <a href=\"#\" class=\"ui-slider-handle plv_control_handle_v\" style=\"bottom:80%\"></a> </div> </div> </div> <div class=\"plc_right\"> <a href=\"https://www.playax.com/\" target=\"_blank\" class=\"rd-playax pl-playax\"></a> <button title=\"histórico\" class=\"plc_hist\"><b></b>histórico</button> </div> </div> <div class=\"plr_radios js-suggest-radios-player\"> <form action=\"\"><input placeholder='Digite a rádio' /></form> <div class=\"suggest__drop ps\"> <ul class=\"suggest__list\"></ul> </div> </div> <div class=\"pl_note\"> <a href=\"/radios/\">Esta rádio está fora do ar ou não é possível tocá-la em seu navegador. <u>Escolha outra</u>.</a> </div> <button class=\"pl_bt_lyrics\">ver letra</button> <button title=\"fechar\" class=\"pl_bt_close\"><b></b>fechar</button>   <li> <a href=\"<%= track_url %>\" title=\"<%= track_artist %> - <%= track_title %>\"> <% if (!isRadioLineup) { %> <b><%= track_artist %></b> - <%= track_title %> <i><%= detected_at_hours %></i> <% if (track_url != \"\") { %> <span class=\"js-default-action bt-ouvir-s\">ouvir</span> <% } %> <% } else { %> <b>Identificando música...</b><i class=\"search-detect\"><%= detected_at_hours %></i> <% } %> </a> </li>   <img class=\"\" src=\"<%= radio_logo %>\" alt=\"\" width=\"44\" height=\"44\" /> <b><%= radio_name %></b> <span><%= radio_description %></span>   <img class=\"\" src=\"<%= img %>\" alt=\"\" width=\"200\" height=\"200\" /> <div> <% if (!isRadioLineup) { %> <i>agora</i> <b><%= track_title %></b> <% } else { %> <i class=\"search-detect\">agora</i> <b>Identificando música...</b> <% } %> <span><%= track_artist %></span> </div>   <li data-id=\"<%= id %>\" class=\"suggest__radio <% if (liClass) print(liClass) %>\"> <a href=\"#\"> <img src=\"<%= logo_url %>\" alt=\"\"> <%= name %> <small><%= city %>, <%= state %></small> <i class=\"plrc_fav js-fav-radio\" data-login-pos=\"top right\" data-id=\"<%= id %>\"></i> </a> </li>   <div class=\"rd g-1-5 g-mb js-radio js-radio-<%= id %>\" data-id=\"<%= id %>\"> <div class=\"rd_cnt\" > <div class=\"rd_name js-partial-tpl\" data-section=\"current\" data-watch-keys=\"first_song,detections\"> <% if (first_song.stillPlaying) { %> <a class=\"js-link-radio\" href=\"/<%= first_song.dns %>/<%= first_song.url %>/#radios:<%= id %>\"> <% } else { %> <a href=\"/radios/<%= id %>/\"> <% } %> <img data-src=\"<%= logo_url ? logo_url : 'https://studiosol-a.akamaihd.net/letras/static/img//placeholder_logo_quadrado.png' %>\" alt=\"\" width=\"36\" height=\"36\"> <b><%= name %></b> <span><%= city %>, <%= state %></span> <div class=\"rd-sound\"> <div> <% if(detections.length == 0) { %> <span class=\"rd-last\"> <i>No momento não temos o histórico desta rádio</i> </span> <% } else { %> <% if (first_song.stillPlaying) { %> <img data-src=\"<%= first_song.img ? first_song.img : 'https://studiosol-a.akamaihd.net/letras/static/img/placeholder_logo_quadrado.png' %>\" alt=\"\" width=\"191\" height=\"191\" /> <span> <b><%= first_song.track_title %></b> <small> <%= first_song.track_artist %> <i><%= first_song.timeAgo %></i> </small> </span> <% } else { %> <span class=\"rd-last js-partial-tpl\" data-section=\"detectionsrecents\" data-watch-keys=\"detections\"> <b>Tocou recentemente</b> <i><% var i=0; var dects = _.uniq(detections, true, function(item, key, a){ return item.track_artist; }); dects = _.take(dects, 3); for (s in dects) { if (dects.hasOwnProperty(s)) { s = dects[s];i++; %> <%= s.track_artist %><% if (dects.length > 1) { if(i >= 3) { %>...<% break; %><% } else { %>,<% } } %> <% }} %></i> </span> <% } %> <% } %> </div> </div> </a> <div class=\"rd_int\"> <a href=\"<% if (first_song.stillPlaying) { %>\n",
      "\t\t\t\t\t\t\t\t/<%= first_song.dns %>/<%= first_song.url %>/#radios:<%= id %>\n",
      "\t\t\t\t\t\t\t<% } else { %>\n",
      "\t\t\t\t\t\t\t\t/radios/<%= id %>/\n",
      "\t\t\t\t\t\t\t<% } %>\" class=\"bt-ouvir js-link-radio\"> Ouvir Rádio </a> <% if(detections.length > 0) { %> <i class=\"rd_int_h\">histórico</i> <% } %> <i class=\"rd_int_f js-fav-radio\" data-id=\"<%= id %>\"></i> </div> </div> <div class=\"rd_hist js-partial-tpl\" data-section=\"detectionsrecents\" data-watch-keys=\"detections\"> <b class=\"rd_hist_t\">Músicas Recentes</b> <div class=\"rd_hist_l ps\"> <ul> <% for (s in detections) { if (detections.hasOwnProperty(s)) { s = detections[s]; %> <li><a href=\"/<%= s.dns %>/<%= s.url %>/#autoplay\"> <b><%= s.track_title %></b> <%= s.track_artist %> <i><%= s.timeAgo %></i> </a></li> <% }} %> </ul> </div> </div> </div> </div>      Músicas Artistas Estilos musicais Playlists  Rádios  Aplicativos  Enviar letra          Aplicativos e plugins  Mobile Android iPhone Windows Phone   Desktop Google Chrome Windows 8   Plugin W. Media Player Winamp iTunes        Meu perfil Enviar letra Mensagens Editar Sair     Playlists Artistas Álbuns Notificações  Amigos pendentes    ouvir Últimas músicas que ouvi            Desejo receber notificações de destaques e novidades.            <a href=\"/contribuicoes/\">Enviar letra</a>   <a class=\"js-user-open-login\" href=\"#\">Entrar</a>   <a href=\"/membros/<%= id %>/\"><%= nickname %><img src=\"<%= avatar %>\" width=\"32\" height=\"32\"><i class=\"unread_notifications\" style=\"display:none\"></i></a>   <li data-userid=\"<%= userID %>\" data-id=\"<%= id %>\" <%= !seen ? 'class=\"ccid_new\"' : ''%>> <a class=\"js-user-notification\" href=\"/membros/<%= userID %>/\"> <img width=\"32\" height=\"32\" data-src=\"<%= userAvatar %>\"> <b><%= userName %></b> </a> <button data-type=\"ignore\" class=\"js-decline ccid_notify_ig\">ignorar</button> <button data-type=\"confirm\" class=\"js-confirm ccid_notify_ac\">aceitar</button> </li>   <li><a href=\"#\" data-endpoint=\"<%= endpoint %>\"><%= name %></a> <% if (configurable) { %> <button data-endpoint=\"<%= endpoint %>\" class=\"plt_edit\"></button> <% } %> </li>   <li> <a href=\"<%= '/'+dns+'/'+url+'/#'+hash %>\"> <b><%= artist %></b> <%= name %> <% if (removable) { %> </i--> <% } %> </a> </li>    Editar playlist   Apagar playlist  Tem certeza que deseja deletar esta playlist? sim não   ok   Nome    Quem pode ouvir essa lista?   Todos   Somente eu      Adicionar e mover músicas                <li data-lid=\"<%= id %>\" data-id=\"<%= playlistSongID %>\"> <span class=\"select-order\"> <select> <option><%= index %></option> </select> </span> <a href=\"#\" data-nofollow=\"true\"><b><%= artist %></b> - <%= name %></a> <i class=\"x\" title=\"remover\"></i> </li>   <li data-lid=\"<%= item.imu %>\" data-dns=\"<%= item.dns %>\" data-url=\"<%= item.url %>\" data-name=\"<%= item.txt %>\" data-art=\"<%= item.art %>\"> <a href=\"#\"> <%= item.txt %> - <%= item.art %></a> </li>     var loadDeferredStyles=function(){var addStylesNode=document.getElementById(\"deferred-styles\");var replacement=document.createElement(\"div\");replacement.innerHTML=addStylesNode.textContent;document.body.appendChild(replacement)\n",
      "addStylesNode.parentElement.removeChild(addStylesNode);};var raf=requestAnimationFrame||mozRequestAnimationFrame||webkitRequestAnimationFrame||msRequestAnimationFrame;if(raf)raf(function(){window.setTimeout(loadDeferredStyles,0);});else window.addEventListener('load',loadDeferredStyles);(function(i,s,o,g,r,a,m){i['GoogleAnalyticsObject']=r;i[r]=i[r]||function(){\n",
      "(i[r].q=i[r].q||[]).push(arguments)},i[r].l=1*new Date();a=s.createElement(o),\n",
      "m=s.getElementsByTagName(o)[0];a.async=1;a.src=g;m.parentNode.insertBefore(a,m)\n",
      "})(window,document,'script','//www.google-analytics.com/analytics.js','ga');\n",
      "ga('create', 'UA-446764-1', 'auto', {'sampleRate': 10});\n",
      "ga('send', 'pageview'); \n",
      "    function loadJS(){var a,b,c=Array.prototype.slice.call(arguments,0),d=document;if(c.length==0)return;a=d.createElement(\"script\"),a.src=c.shift(),a.async=true,b=d.getElementsByTagName(\"head\")[0],b.parentNode.insertBefore(a,b),a.onload=function(){loadJS.apply(null,c)}}\n",
      "\n",
      " loadJS('//studiosol-a.akamaihd.net/letras/static/js/plugins.vf8161cd6.js?v=5','//studiosol-a.akamaihd.net/letras/static/js/main-pt.v2e3dc208.js'); \n",
      "var _comscore = _comscore || [];\n",
      "_comscore.push({ c1: \"2\", c2: \"14194541\" });\n",
      "(function() {\n",
      "var s = document.createElement(\"script\"), el = document.getElementsByTagName(\"script\")[0]; s.async = true;\n",
      "s.src = (document.location.protocol == \"https:\" ? \"https://sb\" : \"http://b\") + \".scorecardresearch.com/beacon.js\";\n",
      "el.parentNode.insertBefore(s, el);\n",
      "})();\n",
      "\n",
      "\n",
      "\n",
      "   \n"
     ]
    }
   ],
   "source": [
    "# Extrair o texto da nossa sopa e imprimir\n",
    "text = soup.get_text()\n",
    "print(text)"
   ]
  },
  {
   "cell_type": "markdown",
   "metadata": {},
   "source": [
    "Como podemos perceber esse método retorna todo conteúdo da página inclusive códigos Javascript ou CSS. Nao é exatamente o que gostariamos de obter, o texto da música está contido nessa sopa, mas nossa colher parece grande demais para come-la ;). Analisando a página que contém o texto da música temos uma boa pista. A tag < article > parece conter todo o conteúdo da letra da música. Vamos usar entao o método .findAll() passando como parâmetro a string 'article'"
   ]
  },
  {
   "cell_type": "code",
   "execution_count": 8,
   "metadata": {},
   "outputs": [
    {
     "data": {
      "text/plain": [
       "bs4.element.Tag"
      ]
     },
     "execution_count": 8,
     "metadata": {},
     "output_type": "execute_result"
    }
   ],
   "source": [
    "article_tag = soup.find('article')\n",
    "type(article_tag)"
   ]
  },
  {
   "cell_type": "code",
   "execution_count": 9,
   "metadata": {},
   "outputs": [
    {
     "name": "stdout",
     "output_type": "stream",
     "text": [
      "Gravity is working against me And gravity wants to bring me down Oh, I'll never know what makes this man With all the love that his heart can stand Dream of ways to throw it all away Oh, gravity is working against me And gravity wants to bring me down Oh, twice as much ain't twice as good And can't sustain like a one half could It's wanting more that's gonna send me to my knees Oh, gravity stay the hell away from me Oh, gravity has taken better men than me How can that be? Just keep me where the light is Just keep me where the light is Just keep me where the light is Come on, keep me where the light is Come on, keep me where the light is Come on, keep me where, keep me where the light is\n"
     ]
    }
   ],
   "source": [
    "for br_tag in article_tag.find_all('br'):\n",
    "    br_tag.extract()\n",
    "text = article_tag.get_text(separator=u' ', strip=True)\n",
    "print(text)"
   ]
  },
  {
   "cell_type": "markdown",
   "metadata": {},
   "source": [
    "### Parte 2 - Tokenizacao\n",
    "\n",
    "Por último, vamos comecar a preparar o nosso corpus para uma posterior análise de NLP. Uma das primeiras etapas nesse processo é a etapa de tokenizacao. Para realizar isso vamos importar o módulo RegexpTokenizer da biblioteca _NLTK_ **(Natural Language Toolkit)**. Para mais detalhes sobre a biblioteca acesse. Existe também um livro que você pode ler aqui - http://www.nltk.org/book/"
   ]
  },
  {
   "cell_type": "code",
   "execution_count": 10,
   "metadata": {},
   "outputs": [
    {
     "data": {
      "text/plain": [
       "['Gravity', 'is', 'working', 'against', 'me', 'And', 'gravity', 'wants']"
      ]
     },
     "execution_count": 10,
     "metadata": {},
     "output_type": "execute_result"
    }
   ],
   "source": [
    "# Importando RegexpTokenizer de nltk.tokenize\n",
    "from nltk.tokenize import RegexpTokenizer\n",
    "\n",
    "# Criando o objeto tokenizer\n",
    "tokenizer = RegexpTokenizer('\\w+')\n",
    "\n",
    "# Criando os tokens a partir do texto da música Gravity\n",
    "tokens = tokenizer.tokenize(text)\n",
    "tokens[:8]"
   ]
  },
  {
   "cell_type": "code",
   "execution_count": 11,
   "metadata": {},
   "outputs": [
    {
     "data": {
      "text/plain": [
       "['gravity', 'is', 'working', 'against', 'me', 'and', 'gravity', 'wants']"
      ]
     },
     "execution_count": 11,
     "metadata": {},
     "output_type": "execute_result"
    }
   ],
   "source": [
    "# Inicializando uma lista vazia que vai conter as palavras minúsculas\n",
    "words = []\n",
    "\n",
    "# Loop through list tokens and make lower case\n",
    "for word in tokens:\n",
    "    words.append(word.lower())\n",
    "\n",
    "# Print several items from list as sanity check\n",
    "words[:8]"
   ]
  },
  {
   "cell_type": "markdown",
   "metadata": {},
   "source": [
    "That's all folks !!"
   ]
  }
 ],
 "metadata": {
  "kernelspec": {
   "display_name": "Python 3",
   "language": "python",
   "name": "python3"
  },
  "language_info": {
   "codemirror_mode": {
    "name": "ipython",
    "version": 3
   },
   "file_extension": ".py",
   "mimetype": "text/x-python",
   "name": "python",
   "nbconvert_exporter": "python",
   "pygments_lexer": "ipython3",
   "version": "3.6.2"
  }
 },
 "nbformat": 4,
 "nbformat_minor": 2
}
